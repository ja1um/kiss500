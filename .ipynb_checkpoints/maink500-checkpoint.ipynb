{
 "cells": [
  {
   "cell_type": "code",
   "execution_count": 31,
   "metadata": {},
   "outputs": [],
   "source": [
    "# Importando as bibliotecas\n",
    "import pandas as pd\n",
    "import requests\n",
    "from urllib.request import urlopen\n",
    "from urllib.error import HTTPError\n",
    "from urllib.error import URLError\n",
    "from bs4 import BeautifulSoup\n",
    "import re"
   ]
  },
  {
   "cell_type": "code",
   "execution_count": 5,
   "metadata": {},
   "outputs": [],
   "source": [
    "# Url Base\n",
    "url_raiz = 'https://leitespc.blogspot.com/'\n",
    "for i in range(2006, 2020):\n",
    "    ano = i\n",
    "    for j in range(1, 12):\n",
    "        url = url_raiz+str(ano)+'/'+str(j)\n",
    "        #request = requests.get(url)"
   ]
  },
  {
   "cell_type": "code",
   "execution_count": 49,
   "metadata": {},
   "outputs": [
    {
     "data": {
      "text/plain": [
       "['https://leitespc.blogspot.com/2006/01',\n",
       " 'https://leitespc.blogspot.com/2006/02',\n",
       " 'https://leitespc.blogspot.com/2006/03',\n",
       " 'https://leitespc.blogspot.com/2006/04',\n",
       " 'https://leitespc.blogspot.com/2006/05',\n",
       " 'https://leitespc.blogspot.com/2006/06',\n",
       " 'https://leitespc.blogspot.com/2006/07',\n",
       " 'https://leitespc.blogspot.com/2006/08',\n",
       " 'https://leitespc.blogspot.com/2006/09',\n",
       " 'https://leitespc.blogspot.com/2006/10',\n",
       " 'https://leitespc.blogspot.com/2006/11',\n",
       " 'https://leitespc.blogspot.com/2006/12',\n",
       " 'https://leitespc.blogspot.com/2007/01',\n",
       " 'https://leitespc.blogspot.com/2007/02',\n",
       " 'https://leitespc.blogspot.com/2007/03',\n",
       " 'https://leitespc.blogspot.com/2007/04',\n",
       " 'https://leitespc.blogspot.com/2007/05',\n",
       " 'https://leitespc.blogspot.com/2007/06',\n",
       " 'https://leitespc.blogspot.com/2007/07',\n",
       " 'https://leitespc.blogspot.com/2007/08',\n",
       " 'https://leitespc.blogspot.com/2007/09',\n",
       " 'https://leitespc.blogspot.com/2007/10',\n",
       " 'https://leitespc.blogspot.com/2007/11',\n",
       " 'https://leitespc.blogspot.com/2007/12',\n",
       " 'https://leitespc.blogspot.com/2008/01',\n",
       " 'https://leitespc.blogspot.com/2008/02',\n",
       " 'https://leitespc.blogspot.com/2008/03',\n",
       " 'https://leitespc.blogspot.com/2008/04',\n",
       " 'https://leitespc.blogspot.com/2008/05',\n",
       " 'https://leitespc.blogspot.com/2008/06',\n",
       " 'https://leitespc.blogspot.com/2008/07',\n",
       " 'https://leitespc.blogspot.com/2008/08',\n",
       " 'https://leitespc.blogspot.com/2008/09',\n",
       " 'https://leitespc.blogspot.com/2008/10',\n",
       " 'https://leitespc.blogspot.com/2008/11',\n",
       " 'https://leitespc.blogspot.com/2008/12',\n",
       " 'https://leitespc.blogspot.com/2009/01',\n",
       " 'https://leitespc.blogspot.com/2009/02',\n",
       " 'https://leitespc.blogspot.com/2009/03',\n",
       " 'https://leitespc.blogspot.com/2009/04',\n",
       " 'https://leitespc.blogspot.com/2009/05',\n",
       " 'https://leitespc.blogspot.com/2009/06',\n",
       " 'https://leitespc.blogspot.com/2009/07',\n",
       " 'https://leitespc.blogspot.com/2009/08',\n",
       " 'https://leitespc.blogspot.com/2009/09',\n",
       " 'https://leitespc.blogspot.com/2009/10',\n",
       " 'https://leitespc.blogspot.com/2009/11',\n",
       " 'https://leitespc.blogspot.com/2009/12',\n",
       " 'https://leitespc.blogspot.com/2010/01',\n",
       " 'https://leitespc.blogspot.com/2010/02',\n",
       " 'https://leitespc.blogspot.com/2010/03',\n",
       " 'https://leitespc.blogspot.com/2010/04',\n",
       " 'https://leitespc.blogspot.com/2010/05',\n",
       " 'https://leitespc.blogspot.com/2010/06',\n",
       " 'https://leitespc.blogspot.com/2010/07',\n",
       " 'https://leitespc.blogspot.com/2010/08',\n",
       " 'https://leitespc.blogspot.com/2010/09',\n",
       " 'https://leitespc.blogspot.com/2010/10',\n",
       " 'https://leitespc.blogspot.com/2010/11',\n",
       " 'https://leitespc.blogspot.com/2010/12',\n",
       " 'https://leitespc.blogspot.com/2011/01',\n",
       " 'https://leitespc.blogspot.com/2011/02',\n",
       " 'https://leitespc.blogspot.com/2011/03',\n",
       " 'https://leitespc.blogspot.com/2011/04',\n",
       " 'https://leitespc.blogspot.com/2011/05',\n",
       " 'https://leitespc.blogspot.com/2011/06',\n",
       " 'https://leitespc.blogspot.com/2011/07',\n",
       " 'https://leitespc.blogspot.com/2011/08',\n",
       " 'https://leitespc.blogspot.com/2011/09',\n",
       " 'https://leitespc.blogspot.com/2011/10',\n",
       " 'https://leitespc.blogspot.com/2011/11',\n",
       " 'https://leitespc.blogspot.com/2011/12',\n",
       " 'https://leitespc.blogspot.com/2012/01',\n",
       " 'https://leitespc.blogspot.com/2012/02',\n",
       " 'https://leitespc.blogspot.com/2012/03',\n",
       " 'https://leitespc.blogspot.com/2012/04',\n",
       " 'https://leitespc.blogspot.com/2012/05',\n",
       " 'https://leitespc.blogspot.com/2012/06',\n",
       " 'https://leitespc.blogspot.com/2012/07',\n",
       " 'https://leitespc.blogspot.com/2012/08',\n",
       " 'https://leitespc.blogspot.com/2012/09',\n",
       " 'https://leitespc.blogspot.com/2012/10',\n",
       " 'https://leitespc.blogspot.com/2012/11',\n",
       " 'https://leitespc.blogspot.com/2012/12',\n",
       " 'https://leitespc.blogspot.com/2013/01',\n",
       " 'https://leitespc.blogspot.com/2013/02',\n",
       " 'https://leitespc.blogspot.com/2013/03',\n",
       " 'https://leitespc.blogspot.com/2013/04',\n",
       " 'https://leitespc.blogspot.com/2013/05',\n",
       " 'https://leitespc.blogspot.com/2013/06',\n",
       " 'https://leitespc.blogspot.com/2013/07',\n",
       " 'https://leitespc.blogspot.com/2013/08',\n",
       " 'https://leitespc.blogspot.com/2013/09',\n",
       " 'https://leitespc.blogspot.com/2013/10',\n",
       " 'https://leitespc.blogspot.com/2013/11',\n",
       " 'https://leitespc.blogspot.com/2013/12',\n",
       " 'https://leitespc.blogspot.com/2014/01',\n",
       " 'https://leitespc.blogspot.com/2014/02',\n",
       " 'https://leitespc.blogspot.com/2014/03',\n",
       " 'https://leitespc.blogspot.com/2014/04',\n",
       " 'https://leitespc.blogspot.com/2014/05',\n",
       " 'https://leitespc.blogspot.com/2014/06',\n",
       " 'https://leitespc.blogspot.com/2014/07',\n",
       " 'https://leitespc.blogspot.com/2014/08',\n",
       " 'https://leitespc.blogspot.com/2014/09',\n",
       " 'https://leitespc.blogspot.com/2014/10',\n",
       " 'https://leitespc.blogspot.com/2014/11',\n",
       " 'https://leitespc.blogspot.com/2014/12',\n",
       " 'https://leitespc.blogspot.com/2015/01',\n",
       " 'https://leitespc.blogspot.com/2015/02',\n",
       " 'https://leitespc.blogspot.com/2015/03',\n",
       " 'https://leitespc.blogspot.com/2015/04',\n",
       " 'https://leitespc.blogspot.com/2015/05',\n",
       " 'https://leitespc.blogspot.com/2015/06',\n",
       " 'https://leitespc.blogspot.com/2015/07',\n",
       " 'https://leitespc.blogspot.com/2015/08',\n",
       " 'https://leitespc.blogspot.com/2015/09',\n",
       " 'https://leitespc.blogspot.com/2015/10',\n",
       " 'https://leitespc.blogspot.com/2015/11',\n",
       " 'https://leitespc.blogspot.com/2015/12',\n",
       " 'https://leitespc.blogspot.com/2016/01',\n",
       " 'https://leitespc.blogspot.com/2016/02',\n",
       " 'https://leitespc.blogspot.com/2016/03',\n",
       " 'https://leitespc.blogspot.com/2016/04',\n",
       " 'https://leitespc.blogspot.com/2016/05',\n",
       " 'https://leitespc.blogspot.com/2016/06',\n",
       " 'https://leitespc.blogspot.com/2016/07',\n",
       " 'https://leitespc.blogspot.com/2016/08',\n",
       " 'https://leitespc.blogspot.com/2016/09',\n",
       " 'https://leitespc.blogspot.com/2016/10',\n",
       " 'https://leitespc.blogspot.com/2016/11',\n",
       " 'https://leitespc.blogspot.com/2016/12',\n",
       " 'https://leitespc.blogspot.com/2017/01',\n",
       " 'https://leitespc.blogspot.com/2017/02',\n",
       " 'https://leitespc.blogspot.com/2017/03',\n",
       " 'https://leitespc.blogspot.com/2017/04',\n",
       " 'https://leitespc.blogspot.com/2017/05',\n",
       " 'https://leitespc.blogspot.com/2017/06',\n",
       " 'https://leitespc.blogspot.com/2017/07',\n",
       " 'https://leitespc.blogspot.com/2017/08',\n",
       " 'https://leitespc.blogspot.com/2017/09',\n",
       " 'https://leitespc.blogspot.com/2017/10',\n",
       " 'https://leitespc.blogspot.com/2017/11',\n",
       " 'https://leitespc.blogspot.com/2017/12',\n",
       " 'https://leitespc.blogspot.com/2018/01',\n",
       " 'https://leitespc.blogspot.com/2018/02',\n",
       " 'https://leitespc.blogspot.com/2018/03',\n",
       " 'https://leitespc.blogspot.com/2018/04',\n",
       " 'https://leitespc.blogspot.com/2018/05',\n",
       " 'https://leitespc.blogspot.com/2018/06',\n",
       " 'https://leitespc.blogspot.com/2018/07',\n",
       " 'https://leitespc.blogspot.com/2018/08',\n",
       " 'https://leitespc.blogspot.com/2018/09',\n",
       " 'https://leitespc.blogspot.com/2018/10',\n",
       " 'https://leitespc.blogspot.com/2018/11',\n",
       " 'https://leitespc.blogspot.com/2018/12',\n",
       " 'https://leitespc.blogspot.com/2019/01',\n",
       " 'https://leitespc.blogspot.com/2019/02',\n",
       " 'https://leitespc.blogspot.com/2019/03',\n",
       " 'https://leitespc.blogspot.com/2019/04',\n",
       " 'https://leitespc.blogspot.com/2019/05',\n",
       " 'https://leitespc.blogspot.com/2019/06',\n",
       " 'https://leitespc.blogspot.com/2019/07',\n",
       " 'https://leitespc.blogspot.com/2019/08',\n",
       " 'https://leitespc.blogspot.com/2019/09',\n",
       " 'https://leitespc.blogspot.com/2019/10',\n",
       " 'https://leitespc.blogspot.com/2019/11',\n",
       " 'https://leitespc.blogspot.com/2019/12']"
      ]
     },
     "execution_count": 49,
     "metadata": {},
     "output_type": "execute_result"
    }
   ],
   "source": [
    "teste = []\n",
    "url_raiz = 'https://leitespc.blogspot.com/'\n",
    "for i in range(2006, 2020):\n",
    "    ano = i\n",
    "    for j in range(1, 13):\n",
    "        url = url_raiz+str(ano)+'/'+str(0)+str(j)\n",
    "        url_new = re.sub(\"010$\",\"10\",url)\n",
    "        url_new = re.sub(\"011$\",\"11\",url_new)\n",
    "        url_new = re.sub(\"012$\",\"12\",url_new)\n",
    "        teste.append(url_new)\n",
    "        \n",
    "\n",
    "\n",
    "#url_raiz = 'https://leitespc.blogspot.com/'\n",
    "#requests.get(url_raiz)\n",
    "teste\n"
   ]
  },
  {
   "cell_type": "code",
   "execution_count": 44,
   "metadata": {},
   "outputs": [
    {
     "ename": "TypeError",
     "evalue": "expected string or bytes-like object",
     "output_type": "error",
     "traceback": [
      "\u001b[1;31m---------------------------------------------------------------------------\u001b[0m",
      "\u001b[1;31mTypeError\u001b[0m                                 Traceback (most recent call last)",
      "\u001b[1;32m<ipython-input-44-1cc476cb8af0>\u001b[0m in \u001b[0;36m<module>\u001b[1;34m\u001b[0m\n\u001b[0;32m      1\u001b[0m \u001b[0mtroca_letra\u001b[0m \u001b[1;33m=\u001b[0m \u001b[1;33m(\u001b[0m\u001b[1;33m(\u001b[0m\u001b[1;34m\"010\"\u001b[0m\u001b[1;33m,\u001b[0m\u001b[1;34m\"10\"\u001b[0m\u001b[1;33m)\u001b[0m\u001b[1;33m,\u001b[0m\u001b[1;33m(\u001b[0m\u001b[1;34m\"011\"\u001b[0m\u001b[1;33m,\u001b[0m\u001b[1;34m\"11\"\u001b[0m\u001b[1;33m)\u001b[0m\u001b[1;33m,\u001b[0m\u001b[1;33m(\u001b[0m\u001b[1;34m\"012\"\u001b[0m\u001b[1;33m,\u001b[0m\u001b[1;34m\"12\"\u001b[0m\u001b[1;33m)\u001b[0m\u001b[1;33m)\u001b[0m\u001b[1;33m\u001b[0m\u001b[1;33m\u001b[0m\u001b[0m\n\u001b[0;32m      2\u001b[0m \u001b[1;32mfor\u001b[0m \u001b[0melemento\u001b[0m \u001b[1;32min\u001b[0m \u001b[0mtroca_letra\u001b[0m\u001b[1;33m:\u001b[0m\u001b[1;33m\u001b[0m\u001b[1;33m\u001b[0m\u001b[0m\n\u001b[1;32m----> 3\u001b[1;33m     \u001b[0mteste\u001b[0m \u001b[1;33m=\u001b[0m \u001b[0mre\u001b[0m\u001b[1;33m.\u001b[0m\u001b[0msub\u001b[0m\u001b[1;33m(\u001b[0m\u001b[0melemento\u001b[0m\u001b[1;33m[\u001b[0m\u001b[1;36m0\u001b[0m\u001b[1;33m]\u001b[0m\u001b[1;33m,\u001b[0m \u001b[0melemento\u001b[0m\u001b[1;33m[\u001b[0m\u001b[1;36m1\u001b[0m\u001b[1;33m]\u001b[0m\u001b[1;33m,\u001b[0m \u001b[0mteste\u001b[0m\u001b[1;33m)\u001b[0m\u001b[1;33m\u001b[0m\u001b[1;33m\u001b[0m\u001b[0m\n\u001b[0m\u001b[0;32m      4\u001b[0m \u001b[0mlst_new\u001b[0m\u001b[1;33m\u001b[0m\u001b[1;33m\u001b[0m\u001b[0m\n",
      "\u001b[1;32m~\\Anaconda3\\lib\\re.py\u001b[0m in \u001b[0;36msub\u001b[1;34m(pattern, repl, string, count, flags)\u001b[0m\n\u001b[0;32m    208\u001b[0m     \u001b[0ma\u001b[0m \u001b[0mcallable\u001b[0m\u001b[1;33m,\u001b[0m \u001b[0mit\u001b[0m\u001b[0;31m'\u001b[0m\u001b[0ms\u001b[0m \u001b[0mpassed\u001b[0m \u001b[0mthe\u001b[0m \u001b[0mMatch\u001b[0m \u001b[0mobject\u001b[0m \u001b[1;32mand\u001b[0m \u001b[0mmust\u001b[0m \u001b[1;32mreturn\u001b[0m\u001b[1;33m\u001b[0m\u001b[1;33m\u001b[0m\u001b[0m\n\u001b[0;32m    209\u001b[0m     a replacement string to be used.\"\"\"\n\u001b[1;32m--> 210\u001b[1;33m     \u001b[1;32mreturn\u001b[0m \u001b[0m_compile\u001b[0m\u001b[1;33m(\u001b[0m\u001b[0mpattern\u001b[0m\u001b[1;33m,\u001b[0m \u001b[0mflags\u001b[0m\u001b[1;33m)\u001b[0m\u001b[1;33m.\u001b[0m\u001b[0msub\u001b[0m\u001b[1;33m(\u001b[0m\u001b[0mrepl\u001b[0m\u001b[1;33m,\u001b[0m \u001b[0mstring\u001b[0m\u001b[1;33m,\u001b[0m \u001b[0mcount\u001b[0m\u001b[1;33m)\u001b[0m\u001b[1;33m\u001b[0m\u001b[1;33m\u001b[0m\u001b[0m\n\u001b[0m\u001b[0;32m    211\u001b[0m \u001b[1;33m\u001b[0m\u001b[0m\n\u001b[0;32m    212\u001b[0m \u001b[1;32mdef\u001b[0m \u001b[0msubn\u001b[0m\u001b[1;33m(\u001b[0m\u001b[0mpattern\u001b[0m\u001b[1;33m,\u001b[0m \u001b[0mrepl\u001b[0m\u001b[1;33m,\u001b[0m \u001b[0mstring\u001b[0m\u001b[1;33m,\u001b[0m \u001b[0mcount\u001b[0m\u001b[1;33m=\u001b[0m\u001b[1;36m0\u001b[0m\u001b[1;33m,\u001b[0m \u001b[0mflags\u001b[0m\u001b[1;33m=\u001b[0m\u001b[1;36m0\u001b[0m\u001b[1;33m)\u001b[0m\u001b[1;33m:\u001b[0m\u001b[1;33m\u001b[0m\u001b[1;33m\u001b[0m\u001b[0m\n",
      "\u001b[1;31mTypeError\u001b[0m: expected string or bytes-like object"
     ]
    }
   ],
   "source": []
  },
  {
   "cell_type": "code",
   "execution_count": 38,
   "metadata": {},
   "outputs": [
    {
     "ename": "TypeError",
     "evalue": "expected string or bytes-like object",
     "output_type": "error",
     "traceback": [
      "\u001b[1;31m---------------------------------------------------------------------------\u001b[0m",
      "\u001b[1;31mTypeError\u001b[0m                                 Traceback (most recent call last)",
      "\u001b[1;32m<ipython-input-38-50f67ee0328c>\u001b[0m in \u001b[0;36m<module>\u001b[1;34m\u001b[0m\n\u001b[1;32m----> 1\u001b[1;33m \u001b[0macerta_num\u001b[0m\u001b[1;33m(\u001b[0m\u001b[0mteste\u001b[0m\u001b[1;33m)\u001b[0m\u001b[1;33m\u001b[0m\u001b[1;33m\u001b[0m\u001b[0m\n\u001b[0m",
      "\u001b[1;32m<ipython-input-37-805ae1de5e7d>\u001b[0m in \u001b[0;36macerta_num\u001b[1;34m(lst)\u001b[0m\n\u001b[0;32m      6\u001b[0m     ]\n\u001b[0;32m      7\u001b[0m     \u001b[1;32mfor\u001b[0m \u001b[0mold\u001b[0m\u001b[1;33m,\u001b[0m\u001b[0mnew\u001b[0m \u001b[1;32min\u001b[0m \u001b[0mtroca_letra\u001b[0m\u001b[1;33m:\u001b[0m\u001b[1;33m\u001b[0m\u001b[1;33m\u001b[0m\u001b[0m\n\u001b[1;32m----> 8\u001b[1;33m         \u001b[0mlst_new\u001b[0m \u001b[1;33m=\u001b[0m \u001b[0mre\u001b[0m\u001b[1;33m.\u001b[0m\u001b[0msub\u001b[0m\u001b[1;33m(\u001b[0m\u001b[0mold\u001b[0m\u001b[1;33m,\u001b[0m \u001b[0mnew\u001b[0m\u001b[1;33m,\u001b[0m \u001b[0mlst\u001b[0m\u001b[1;33m)\u001b[0m\u001b[1;33m\u001b[0m\u001b[1;33m\u001b[0m\u001b[0m\n\u001b[0m",
      "\u001b[1;32m~\\Anaconda3\\lib\\re.py\u001b[0m in \u001b[0;36msub\u001b[1;34m(pattern, repl, string, count, flags)\u001b[0m\n\u001b[0;32m    208\u001b[0m     \u001b[0ma\u001b[0m \u001b[0mcallable\u001b[0m\u001b[1;33m,\u001b[0m \u001b[0mit\u001b[0m\u001b[0;31m'\u001b[0m\u001b[0ms\u001b[0m \u001b[0mpassed\u001b[0m \u001b[0mthe\u001b[0m \u001b[0mMatch\u001b[0m \u001b[0mobject\u001b[0m \u001b[1;32mand\u001b[0m \u001b[0mmust\u001b[0m \u001b[1;32mreturn\u001b[0m\u001b[1;33m\u001b[0m\u001b[1;33m\u001b[0m\u001b[0m\n\u001b[0;32m    209\u001b[0m     a replacement string to be used.\"\"\"\n\u001b[1;32m--> 210\u001b[1;33m     \u001b[1;32mreturn\u001b[0m \u001b[0m_compile\u001b[0m\u001b[1;33m(\u001b[0m\u001b[0mpattern\u001b[0m\u001b[1;33m,\u001b[0m \u001b[0mflags\u001b[0m\u001b[1;33m)\u001b[0m\u001b[1;33m.\u001b[0m\u001b[0msub\u001b[0m\u001b[1;33m(\u001b[0m\u001b[0mrepl\u001b[0m\u001b[1;33m,\u001b[0m \u001b[0mstring\u001b[0m\u001b[1;33m,\u001b[0m \u001b[0mcount\u001b[0m\u001b[1;33m)\u001b[0m\u001b[1;33m\u001b[0m\u001b[1;33m\u001b[0m\u001b[0m\n\u001b[0m\u001b[0;32m    211\u001b[0m \u001b[1;33m\u001b[0m\u001b[0m\n\u001b[0;32m    212\u001b[0m \u001b[1;32mdef\u001b[0m \u001b[0msubn\u001b[0m\u001b[1;33m(\u001b[0m\u001b[0mpattern\u001b[0m\u001b[1;33m,\u001b[0m \u001b[0mrepl\u001b[0m\u001b[1;33m,\u001b[0m \u001b[0mstring\u001b[0m\u001b[1;33m,\u001b[0m \u001b[0mcount\u001b[0m\u001b[1;33m=\u001b[0m\u001b[1;36m0\u001b[0m\u001b[1;33m,\u001b[0m \u001b[0mflags\u001b[0m\u001b[1;33m=\u001b[0m\u001b[1;36m0\u001b[0m\u001b[1;33m)\u001b[0m\u001b[1;33m:\u001b[0m\u001b[1;33m\u001b[0m\u001b[1;33m\u001b[0m\u001b[0m\n",
      "\u001b[1;31mTypeError\u001b[0m: expected string or bytes-like object"
     ]
    }
   ],
   "source": [
    "acerta_num(teste)"
   ]
  },
  {
   "cell_type": "code",
   "execution_count": 1,
   "metadata": {},
   "outputs": [
    {
     "ename": "NameError",
     "evalue": "name 'HTTPError' is not defined",
     "output_type": "error",
     "traceback": [
      "\u001b[1;31m---------------------------------------------------------------------------\u001b[0m",
      "\u001b[1;31mNameError\u001b[0m                                 Traceback (most recent call last)",
      "\u001b[1;32m<ipython-input-1-27edac07a8e4>\u001b[0m in \u001b[0;36m<module>\u001b[1;34m\u001b[0m\n\u001b[0;32m      1\u001b[0m \u001b[1;32mtry\u001b[0m\u001b[1;33m:\u001b[0m\u001b[1;33m\u001b[0m\u001b[1;33m\u001b[0m\u001b[0m\n\u001b[1;32m----> 2\u001b[1;33m     \u001b[0mhtml\u001b[0m \u001b[1;33m=\u001b[0m \u001b[0murlopen\u001b[0m\u001b[1;33m(\u001b[0m\u001b[0murl\u001b[0m\u001b[1;33m)\u001b[0m\u001b[1;33m\u001b[0m\u001b[1;33m\u001b[0m\u001b[0m\n\u001b[0m\u001b[0;32m      3\u001b[0m \u001b[1;32mexcept\u001b[0m \u001b[0mHTTPError\u001b[0m \u001b[1;32mas\u001b[0m \u001b[0me\u001b[0m\u001b[1;33m:\u001b[0m\u001b[1;33m\u001b[0m\u001b[1;33m\u001b[0m\u001b[0m\n",
      "\u001b[1;31mNameError\u001b[0m: name 'urlopen' is not defined",
      "\nDuring handling of the above exception, another exception occurred:\n",
      "\u001b[1;31mNameError\u001b[0m                                 Traceback (most recent call last)",
      "\u001b[1;32m<ipython-input-1-27edac07a8e4>\u001b[0m in \u001b[0;36m<module>\u001b[1;34m\u001b[0m\n\u001b[0;32m      1\u001b[0m \u001b[1;32mtry\u001b[0m\u001b[1;33m:\u001b[0m\u001b[1;33m\u001b[0m\u001b[1;33m\u001b[0m\u001b[0m\n\u001b[0;32m      2\u001b[0m     \u001b[0mhtml\u001b[0m \u001b[1;33m=\u001b[0m \u001b[0murlopen\u001b[0m\u001b[1;33m(\u001b[0m\u001b[0murl\u001b[0m\u001b[1;33m)\u001b[0m\u001b[1;33m\u001b[0m\u001b[1;33m\u001b[0m\u001b[0m\n\u001b[1;32m----> 3\u001b[1;33m \u001b[1;32mexcept\u001b[0m \u001b[0mHTTPError\u001b[0m \u001b[1;32mas\u001b[0m \u001b[0me\u001b[0m\u001b[1;33m:\u001b[0m\u001b[1;33m\u001b[0m\u001b[1;33m\u001b[0m\u001b[0m\n\u001b[0m\u001b[0;32m      4\u001b[0m     \u001b[0mprint\u001b[0m\u001b[1;33m(\u001b[0m\u001b[0me\u001b[0m\u001b[1;33m)\u001b[0m\u001b[1;33m\u001b[0m\u001b[1;33m\u001b[0m\u001b[0m\n\u001b[0;32m      5\u001b[0m \u001b[1;32mexcept\u001b[0m \u001b[0mURLError\u001b[0m \u001b[1;32mas\u001b[0m \u001b[0me\u001b[0m\u001b[1;33m:\u001b[0m\u001b[1;33m\u001b[0m\u001b[1;33m\u001b[0m\u001b[0m\n",
      "\u001b[1;31mNameError\u001b[0m: name 'HTTPError' is not defined"
     ]
    }
   ],
   "source": [
    "try:\n",
    "    html = urlopen(url)\n",
    "except HTTPError as e:\n",
    "    print(e)\n",
    "except URLError as e:\n",
    "    print ('Servidor nao encontrado!')"
   ]
  },
  {
   "cell_type": "code",
   "execution_count": 30,
   "metadata": {
    "tags": [
     "outputPrepend"
    ]
   },
   "outputs": [
    {
     "name": "stdout",
     "output_type": "stream",
     "text": [
      "</span></b></p><p><b style=\"background-color: #ffa400;\"><span style=\"color: #2b00fe;\">127<span style=\"white-space: pre;\"> </span>Iggy Pop - Louie Louie</span></b></p><p><b style=\"background-color: #ffa400;\"><span style=\"color: #2b00fe;\">126<span style=\"white-space: pre;\"> </span>Heart - Crazy on You</span></b></p><p><b style=\"background-color: #ffa400;\"><span style=\"color: #2b00fe;\">125<span style=\"white-space: pre;\"> </span>Fine Young Cannibals - She Drives me Crazy</span></b></p><p><b style=\"background-color: #ffa400;\"><span style=\"color: #2b00fe;\">124<span style=\"white-space: pre;\"> </span>Ramones - Sheena is a Punk Rocker</span></b></p><p><b style=\"background-color: #ffa400;\"><span style=\"color: #2b00fe;\">123<span style=\"white-space: pre;\"> </span>The Smiths - Ask</span></b></p><p><b style=\"background-color: #ffa400;\"><span style=\"color: #2b00fe;\">122<span style=\"white-space: pre;\"> </span>Aerosmith - Walk This Way</span></b></p><p><b style=\"background-color: #ffa400;\"><span style=\"color: #2b00fe;\">121<span style=\"white-space: pre;\"> </span>Bon Jovi - You Give Love a Bad Name</span></b></p><p><b style=\"background-color: #ffa400;\"><span style=\"color: #2b00fe;\">120<span style=\"white-space: pre;\"> </span>Guns N Roses - Paradise City</span></b></p><p><b style=\"background-color: #ffa400;\"><span style=\"color: #2b00fe;\">119<span style=\"white-space: pre;\"> </span>Led Zeppelin - Immigrant Song</span></b></p><p><b style=\"background-color: #ffa400;\"><span style=\"color: #2b00fe;\">118<span style=\"white-space: pre;\"> </span>Black Sabbath - N.I.B</span></b></p><p><b style=\"background-color: #ffa400;\"><span style=\"color: #2b00fe;\">117<span style=\"white-space: pre;\"> </span>Rage Against the Machine - Killing in the Name of</span></b></p><p><b style=\"background-color: #ffa400;\"><span style=\"color: #2b00fe;\">116<span style=\"white-space: pre;\"> </span>Grand Funk Railroad - We're An American Band</span></b></p><p><b style=\"background-color: #ffa400;\"><span style=\"color: #2b00fe;\">115<span style=\"white-space: pre;\"> </span>The Who - Behind Blue Eyes</span></b></p><p><b style=\"background-color: #ffa400;\"><span style=\"color: #2b00fe;\">114<span style=\"white-space: pre;\"> </span>Rod Stewart - Do Ya Think I'm Sexy?</span></b></p><p><b style=\"background-color: #ffa400;\"><span style=\"color: #2b00fe;\">113<span style=\"white-space: pre;\"> </span>David Bowie - Ziggy Stardust</span></b></p><p><b style=\"background-color: #ffa400;\"><span style=\"color: #2b00fe;\">112<span style=\"white-space: pre;\"> </span>Dio - Rainbow in the Dark</span></b></p><p><b style=\"background-color: #ffa400;\"><span style=\"color: #2b00fe;\">111<span style=\"white-space: pre;\"> </span>Paul McCartney &amp; Wings - Band on the Run</span></b></p><p><b style=\"background-color: #ffa400;\"><span style=\"color: #2b00fe;\">110<span style=\"white-space: pre;\"> </span>Kiss - I Love it Loud</span></b></p><p><b style=\"background-color: #ffa400;\"><span style=\"color: #2b00fe;\">109<span style=\"white-space: pre;\"> </span>The Beatles - Back in the USSR</span></b></p><p><b style=\"background-color: #ffa400;\"><span style=\"color: #2b00fe;\">108<span style=\"white-space: pre;\"> </span>Genesis - I Can't Dance</span></b></p><p><b style=\"background-color: #ffa400;\"><span style=\"color: #2b00fe;\">107<span style=\"white-space: pre;\"> </span>Van Halen - When It's Love</span></b></p><p><b style=\"background-color: #ffa400;\"><span style=\"color: #2b00fe;\">106<span style=\"white-space: pre;\"> </span>Yes - Owner of a Lonely Heart</span></b></p><p><b style=\"background-color: #ffa400;\"><span style=\"color: #2b00fe;\">105<span style=\"white-space: pre;\"> </span>Pink Floyd - High Hopes</span></b></p><p><b style=\"background-color: #ffa400;\"><span style=\"color: #2b00fe;\">104<span style=\"white-space: pre;\"> </span>The Who - Pinball Wizard</span></b></p><p><b style=\"background-color: #ffa400;\"><span style=\"color: #2b00fe;\">103<span style=\"white-space: pre;\"> </span>Motorhead - Ace of Spades</span></b></p><p><b style=\"background-color: #ffa400;\"><span style=\"color: #2b00fe;\">102<span style=\"white-space: pre;\"> </span>Creedence Clearwater Revival - Have You Ever Seen the Rain?</span></b></p><p><b style=\"background-color: #ffa400;\"><span style=\"color: #2b00fe;\">101<span style=\"white-space: pre;\"> </span>The Smiths - Heaven Knows I'm Miserable Now</span></b></p><p><b style=\"background-color: #ffa400;\"><span style=\"color: #2b00fe;\">100<span style=\"white-space: pre;\"> </span>Rush - The Spirit of Radio</span></b></p><p><b style=\"background-color: #ffa400;\"><span style=\"color: #2b00fe;\">099<span style=\"white-space: pre;\"> </span>Queen - The Show Must Go On</span></b></p><p><b style=\"background-color: #ffa400;\"><span style=\"color: #2b00fe;\">098<span style=\"white-space: pre;\"> </span>The Beatles - Come Together</span></b></p><p><b style=\"background-color: #ffa400;\"><span style=\"color: #2b00fe;\">097<span style=\"white-space: pre;\"> </span>The Cure - Friday I'm in Love</span></b></p><p><b style=\"background-color: #ffa400;\"><span style=\"color: #2b00fe;\">096<span style=\"white-space: pre;\"> </span>The Rolling Stones - Miss You</span></b></p><p><b style=\"background-color: #ffa400;\"><span style=\"color: #2b00fe;\">095<span style=\"white-space: pre;\"> </span>Journey - Don't Stop Believin</span></b></p><p><b style=\"background-color: #ffa400;\"><span style=\"color: #2b00fe;\">094<span style=\"white-space: pre;\"> </span>INXS - Never Tears Us Apart</span></b></p><p><b style=\"background-color: #ffa400;\"><span style=\"color: #2b00fe;\">093<span style=\"white-space: pre;\"> </span>Guns N Roses - Welcome to the Jungle</span></b></p><p><b style=\"background-color: #ffa400;\"><span style=\"color: #2b00fe;\">092<span style=\"white-space: pre;\"> </span>Black Sabbath - The Wizard</span></b></p><p><b style=\"background-color: #ffa400;\"><span style=\"color: #2b00fe;\">091<span style=\"white-space: pre;\"> </span>Iron Maiden - The Trooper</span></b></p><p><b style=\"background-color: #ffa400;\"><span style=\"color: #2b00fe;\">090<span style=\"white-space: pre;\"> </span>The Police - Message in a Bottle</span></b></p><p><b style=\"background-color: #ffa400;\"><span style=\"color: #2b00fe;\">089<span style=\"white-space: pre;\"> </span>Nirvana - Come as You Are</span></b></p><p><b style=\"background-color: #ffa400;\"><span style=\"color: #2b00fe;\">088<span style=\"white-space: pre;\"> </span>Ramones - Poison Heart</span></b></p><p><b style=\"background-color: #ffa400;\"><span style=\"color: #2b00fe;\">087<span style=\"white-space: pre;\"> </span>Queen - Another One Bites the Dust</span></b></p><p><b style=\"background-color: #ffa400;\"><span style=\"color: #2b00fe;\">086<span style=\"white-space: pre;\"> </span>Phil Collins - In the Air Tonight</span></b></p><p><b style=\"background-color: #ffa400;\"><span style=\"color: #2b00fe;\">085<span style=\"white-space: pre;\"> </span>Ozzy Osbourne - Crazy Train</span></b></p><p><b style=\"background-color: #ffa400;\"><span style=\"color: #2b00fe;\">084<span style=\"white-space: pre;\"> </span>Van Halen - Panama</span></b></p><p><b style=\"background-color: #ffa400;\"><span style=\"color: #2b00fe;\">083<span style=\"white-space: pre;\"> </span>Kiss - Rock N Roll All Nite</span></b></p><p><b style=\"background-color: #ffa400;\"><span style=\"color: #2b00fe;\">082<span style=\"white-space: pre;\"> </span>AC/DC - Jailbreak</span></b></p><p><b style=\"background-color: #ffa400;\"><span style=\"color: #2b00fe;\">081<span style=\"white-space: pre;\"> </span>Black Sabbath - Sabbath Bloody Sabbath</span></b></p><p><b style=\"background-color: #ffa400;\"><span style=\"color: #2b00fe;\">080<span style=\"white-space: pre;\"> </span>Pearl Jam - Even Flow</span></b></p><p><b style=\"background-color: #ffa400;\"><span style=\"color: #2b00fe;\">079<span style=\"white-space: pre;\"> </span>Dio - Holy Diver</span></b></p><p><b style=\"background-color: #ffa400;\"><span style=\"color: #2b00fe;\">078<span style=\"white-space: pre;\"> </span>The Rolling Stones - It's Only Rock N Roll (But I Like it)</span></b></p><p><b style=\"background-color: #ffa400;\"><span style=\"color: #2b00fe;\">077<span style=\"white-space: pre;\"> </span>Queen - Love of My Life</span></b></p><p><b style=\"background-color: #ffa400;\"><span style=\"color: #2b00fe;\">076<span style=\"white-space: pre;\"> </span>Ozzy Osbourne - Mama I'm Coming Home</span></b></p><p><b style=\"background-color: #ffa400;\"><span style=\"color: #2b00fe;\">075<span style=\"white-space: pre;\"> </span>Bruce Dickinson - Tears of the Dragon</span></b></p><p><b style=\"background-color: #ffa400;\"><span style=\"color: #2b00fe;\">074<span style=\"white-space: pre;\"> </span>Aerosmith - Sweet Emotion</span></b></p><p><b style=\"background-color: #ffa400;\"><span style=\"color: #2b00fe;\">073<span style=\"white-space: pre;\"> </span>Deep Purple - Perfect Strangers</span></b></p><p><b style=\"background-color: #ffa400;\"><span style=\"color: #2b00fe;\">072<span style=\"white-space: pre;\"> </span>David Bowie - Rebel Rebel</span></b></p><p><b style=\"background-color: #ffa400;\"><span style=\"color: #2b00fe;\">071<span style=\"white-space: pre;\"> </span>Metallica - Sad But True</span></b></p><p><b style=\"background-color: #ffa400;\"><span style=\"color: #2b00fe;\">070<span style=\"white-space: pre;\"> </span>The Clash - Should I Stay or Should I Go?</span></b></p><p><b style=\"background-color: #ffa400;\"><span style=\"color: #2b00fe;\">069<span style=\"white-space: pre;\"> </span>Bruce Springsteen - Born in the USA</span></b></p><p><b style=\"background-color: #ffa400;\"><span style=\"color: #2b00fe;\">068<span style=\"white-space: pre;\"> </span>The Cult - She Sells Sanctuary</span></b></p><p><b style=\"background-color: #ffa400;\"><span style=\"color: #2b00fe;\">067<span style=\"white-space: pre;\"> </span>David Bowie - Heroes</span></b></p><p><b style=\"background-color: #ffa400;\"><span style=\"color: #2b00fe;\">066<span style=\"white-space: pre;\"> </span>Rush - Limelight</span></b></p><p><b style=\"background-color: #ffa400;\"><span style=\"color: #2b00fe;\">065<span style=\"white-space: pre;\"> </span>Pearl Jam - Alive</span></b></p><p><b style=\"background-color: #ffa400;\"><span style=\"color: #2b00fe;\">064<span style=\"white-space: pre;\"> </span>Queen - Somebody to Love</span></b></p><p><b style=\"background-color: #ffa400;\"><span style=\"color: #2b00fe;\">063<span style=\"white-space: pre;\"> </span>Ramones - Pet Sematery</span></b></p><p><b style=\"background-color: #ffa400;\"><span style=\"color: #2b00fe;\">062<span style=\"white-space: pre;\"> </span>The Cure - Just Like Heaven</span></b></p><p><b style=\"background-color: #ffa400;\"><span style=\"color: #2b00fe;\">061<span style=\"white-space: pre;\"> </span>Midnight Oil - Beds Are Burning</span></b></p><p><b style=\"background-color: #ffa400;\"><span style=\"color: #2b00fe;\">060<span style=\"white-space: pre;\"> </span>Nirvana - Smells Like Teen Spirit</span></b></p><p><b style=\"background-color: #ffa400;\"><span style=\"color: #2b00fe;\">059<span style=\"white-space: pre;\"> </span>Echo &amp; The Bunnymen - The Killing Moon</span></b></p><p><b style=\"background-color: #ffa400;\"><span style=\"color: #2b00fe;\">058<span style=\"white-space: pre;\"> </span>INXS - Suicide Blonde</span></b></p><p><b style=\"background-color: #ffa400;\"><span style=\"color: #2b00fe;\">057<span style=\"white-space: pre;\"> </span>Van Halen - Running With the Devil</span></b></p><p><b style=\"background-color: #ffa400;\"><span style=\"color: #2b00fe;\">056<span style=\"white-space: pre;\"> </span>Jimi Hendrix - All Along the Watchtower</span></b></p><p><b style=\"background-color: #ffa400;\"><span style=\"color: #2b00fe;\">055<span style=\"white-space: pre;\"> </span>Fleetwood Mac - Dreams</span></b></p><p><b style=\"background-color: #ffa400;\"><span style=\"color: #2b00fe;\">054<span style=\"white-space: pre;\"> </span>AC/DC - TNT</span></b></p><p><b style=\"background-color: #ffa400;\"><span style=\"color: #2b00fe;\">053<span style=\"white-space: pre;\"> </span>Led Zeppelin - Black Dog</span></b></p><p><b style=\"background-color: #ffa400;\"><span style=\"color: #2b00fe;\">052<span style=\"white-space: pre;\"> </span>The Rolling Stones - Gimme Shelter</span></b></p><p><b style=\"background-color: #ffa400;\"><span style=\"color: #2b00fe;\">051<span style=\"white-space: pre;\"> </span>Queen - Under Pressure (featuring David Bowie)</span></b></p><p><b style=\"background-color: #ffa400;\"><span style=\"color: #2b00fe;\">050<span style=\"white-space: pre;\"> </span>Van Halen - Why Can't This Be Love?</span></b></p><p><b style=\"background-color: #ffa400;\"><span style=\"color: #2b00fe;\">049<span style=\"white-space: pre;\"> </span>Guns N Roses - November Rain</span></b></p><p><b style=\"background-color: #ffa400;\"><span style=\"color: #2b00fe;\">048<span style=\"white-space: pre;\"> </span>The Beatles - Help!</span></b></p><p><b style=\"background-color: #ffa400;\"><span style=\"color: #2b00fe;\">047<span style=\"white-space: pre;\"> </span>Rush - YYZ</span></b></p><p><b style=\"background-color: #ffa400;\"><span style=\"color: #2b00fe;\">046<span style=\"white-space: pre;\"> </span>Pink Floyd - Time</span></b></p><p><b style=\"background-color: #ffa400;\"><span style=\"color: #2b00fe;\">045<span style=\"white-space: pre;\"> </span>Queen - Fat Bottomed Girls</span></b></p><p><b style=\"background-color: #ffa400;\"><span style=\"color: #2b00fe;\">044<span style=\"white-space: pre;\"> </span>The Beatles - Yesterday</span></b></p><p><b style=\"background-color: #ffa400;\"><span style=\"color: #2b00fe;\">043<span style=\"white-space: pre;\"> </span>The Rolling Stones - Start me Up</span></b></p><p><b style=\"background-color: #ffa400;\"><span style=\"color: #2b00fe;\">042<span style=\"white-space: pre;\"> </span>Van Halen - Right Now</span></b></p><p><b style=\"background-color: #ffa400;\"><span style=\"color: #2b00fe;\">041<span style=\"white-space: pre;\"> </span>Kiss - Detroit Rock City</span></b></p><p><b style=\"background-color: #ffa400;\"><span style=\"color: #2b00fe;\">040<span style=\"white-space: pre;\"> </span>AC/DC - Hells Bells</span></b></p><p><b style=\"background-color: #ffa400;\"><span style=\"color: #2b00fe;\">039<span style=\"white-space: pre;\"> </span>Bon Jovi - Living on a Prayer</span></b></p><p><b style=\"background-color: #ffa400;\"><span style=\"color: #2b00fe;\">038<span style=\"white-space: pre;\"> </span>Whitesnake - Love Ain't No Stranger</span></b></p><p><b style=\"background-color: #ffa400;\"><span style=\"color: #2b00fe;\">037<span style=\"white-space: pre;\"> </span>Dire Straits - Sultans of Swing</span></b></p><p><b style=\"background-color: #ffa400;\"><span style=\"color: #2b00fe;\">036<span style=\"white-space: pre;\"> </span>The Who - Who Are You</span></b></p><p><b style=\"background-color: #ffa400;\"><span style=\"color: #2b00fe;\">035<span style=\"white-space: pre;\"> </span>Black Sabbath - Iron Man</span></b></p><p><b style=\"background-color: #ffa400;\"><span style=\"color: #2b00fe;\">034<span style=\"white-space: pre;\"> </span>Pearl Jam - Jeremy</span></b></p><p><b style=\"background-color: #ffa400;\"><span style=\"color: #2b00fe;\">033<span style=\"white-space: pre;\"> </span>Pink Floyd - The Happiest Days of Our Lives/ Another Brick in the Wall Pt. 2</span></b></p><p><b style=\"background-color: #ffa400;\"><span style=\"color: #2b00fe;\">032<span style=\"white-space: pre;\"> </span>The Who - Baba O´Riley</span></b></p><p><b style=\"background-color: #ffa400;\"><span style=\"color: #2b00fe;\">031<span style=\"white-space: pre;\"> </span>Van Halen - Dreams</span></b></p><p><b style=\"background-color: #ffa400;\"><span style=\"color: #2b00fe;\">030<span style=\"white-space: pre;\"> </span>U2 - Sunday Bloodu Sunday</span></b></p><p><b style=\"background-color: #ffa400;\"><span style=\"color: #2b00fe;\">029<span style=\"white-space: pre;\"> </span>The Rolling Stones - (I Can't Get No) Satisfaction</span></b></p><p><b style=\"background-color: #ffa400;\"><span style=\"color: #2b00fe;\">028<span style=\"white-space: pre;\"> </span>Ramones - Blitzkrieg Bop</span></b></p><p><b style=\"background-color: #ffa400;\"><span style=\"color: #2b00fe;\">027<span style=\"white-space: pre;\"> </span>Queen - We Will Rock You</span></b></p><p><b style=\"background-color: #ffa400;\"><span style=\"color: #2b00fe;\">026<span style=\"white-space: pre;\"> </span>Pink Floyd - Wish You Were Here</span></b></p><p><b style=\"background-color: #ffa400;\"><span style=\"color: #2b00fe;\">025<span style=\"white-space: pre;\"> </span>The Eagles - Hotel California</span></b></p><p><b style=\"background-color: #ffa400;\"><span style=\"color: #2b00fe;\">024<span style=\"white-space: pre;\"> </span>Led Zeppelin - Kashmir</span></b></p><p><b style=\"background-color: #ffa400;\"><span style=\"color: #2b00fe;\">023<span style=\"white-space: pre;\"> </span>Metallica - Nothing Else Matters</span></b></p><p><b style=\"background-color: #ffa400;\"><span style=\"color: #2b00fe;\">022<span style=\"white-space: pre;\"> </span>Van Halen - Ain't Talkin' 'Bout Love</span></b></p><p><b style=\"background-color: #ffa400;\"><span style=\"color: #2b00fe;\">021<span style=\"white-space: pre;\"> </span>Lynyrd Skynyrd - Simple Man</span></b></p><p><b style=\"background-color: #ffa400;\"><span style=\"color: #2b00fe;\">020<span style=\"white-space: pre;\"> </span>Metallica - The Unforgiven</span></b></p><p><b style=\"background-color: #ffa400;\"><span style=\"color: #2b00fe;\">019<span style=\"white-space: pre;\"> </span>AC/DC - Highway to Hell</span></b></p><p><b style=\"background-color: #ffa400;\"><span style=\"color: #2b00fe;\">018<span style=\"white-space: pre;\"> </span>Led Zeppelin - Rock N Roll</span></b></p><p><b style=\"background-color: #ffa400;\"><span style=\"color: #2b00fe;\">017<span style=\"white-space: pre;\"> </span>Rainbow - Stargazer</span></b></p><p><b style=\"background-color: #ffa400;\"><span style=\"color: #2b00fe;\">016<span style=\"white-space: pre;\"> </span>Pink Floyd - Money</span></b></p><p><b style=\"background-color: #ffa400;\"><span style=\"color: #2b00fe;\">015<span style=\"white-space: pre;\"> </span>Iron Maiden - Fear of the Dark</span></b></p><p><b style=\"background-color: #ffa400;\"><span style=\"color: #2b00fe;\">014<span style=\"white-space: pre;\"> </span>Deep Purple - Smoke on the Water</span></b></p><p><b style=\"background-color: #ffa400;\"><span style=\"color: #2b00fe;\">013<span style=\"white-space: pre;\"> </span>Aerosmith - Dream On</span></b></p><p><b style=\"background-color: #ffa400;\"><span style=\"color: #2b00fe;\">012<span style=\"white-space: pre;\"> </span>AC/DC - Back in Black</span></b></p><p><b style=\"background-color: #ffa400;\"><span style=\"color: #2b00fe;\">011<span style=\"white-space: pre;\"> </span>Pink Floyd - Comfortably Numb</span></b></p><p><b style=\"background-color: #ffa400;\"><span style=\"color: #2b00fe;\">010<span style=\"white-space: pre;\"> </span>Black Sabbath - Paranoid</span></b></p><p><b style=\"background-color: #ffa400;\"><span style=\"color: #2b00fe;\">009<span style=\"white-space: pre;\"> </span>Iron Maiden - Number of the Beast</span></b></p><p><b style=\"background-color: #ffa400;\"><span style=\"color: #2b00fe;\">008<span style=\"white-space: pre;\"> </span>Pearl Jam - Black</span></b></p><p><b style=\"background-color: #ffa400;\"><span style=\"color: #2b00fe;\">007<span style=\"white-space: pre;\"> </span>Rush - Tom Sawyer</span></b></p><p><b style=\"background-color: #ffa400;\"><span style=\"color: #2b00fe;\">006<span style=\"white-space: pre;\"> </span>Van Halen - Jump</span></b></p><p><b style=\"background-color: #ffa400;\"><span style=\"color: #2b00fe;\">005<span style=\"white-space: pre;\"> </span>AC/DC - Thunderstruck</span></b></p><p><b style=\"background-color: #ffa400;\"><span style=\"color: #2b00fe;\">004<span style=\"white-space: pre;\"> </span>The Beatles - Helter Skelter</span></b></p><p><b style=\"background-color: #ffa400;\"><span style=\"color: #2b00fe;\">003<span style=\"white-space: pre;\"> </span>Queen - Bohemian Rhapsody</span></b></p><p><b style=\"background-color: #ffa400;\"><span style=\"color: #2b00fe;\">002<span style=\"white-space: pre;\"> </span>Metallica - One</span></b></p><p><b style=\"background-color: #ffa400;\"><span style=\"color: #2b00fe;\">001<span style=\"white-space: pre;\"> </span>Led Zeppelin - Stairway to Heaven</span></b></p><div><br/></div>\n",
      "<div style=\"clear: both;\"></div>\n",
      "</div>\n"
     ]
    }
   ],
   "source": [
    "bs = BeautifulSoup(request.content, 'html.parser')\n",
    "\n",
    "musicas_filtradas = print(bs.find('div', class_=\"post-body entry-content\"))\n",
    "#print(musicas_filtradas.head())"
   ]
  },
  {
   "cell_type": "code",
   "execution_count": null,
   "metadata": {},
   "outputs": [],
   "source": []
  }
 ],
 "metadata": {
  "kernelspec": {
   "display_name": "Python 3",
   "language": "python",
   "name": "python3"
  },
  "language_info": {
   "codemirror_mode": {
    "name": "ipython",
    "version": 3
   },
   "file_extension": ".py",
   "mimetype": "text/x-python",
   "name": "python",
   "nbconvert_exporter": "python",
   "pygments_lexer": "ipython3",
   "version": "3.8.5"
  }
 },
 "nbformat": 4,
 "nbformat_minor": 2
}
