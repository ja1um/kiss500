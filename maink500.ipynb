{
 "cells": [
  {
   "cell_type": "code",
   "execution_count": 1,
   "metadata": {},
   "outputs": [],
   "source": [
    "# Importando as bibliotecas\n",
    "import pandas as pd\n",
    "import requests\n",
    "from urllib.request import urlopen\n",
    "from urllib.error import HTTPError\n",
    "from urllib.error import URLError\n",
    "from bs4 import BeautifulSoup\n",
    "import re"
   ]
  },
  {
   "cell_type": "code",
   "execution_count": null,
   "metadata": {},
   "outputs": [],
   "source": [
    "# Url Base\n",
    "url_raiz = 'https://leitespc.blogspot.com/'\n",
    "for i in range(2006, 2022):\n",
    "    ano = i\n",
    "    for j in range(1, 12):\n",
    "        url = url_raiz+str(ano)+'/'+str(j)\n",
    "        #request = requests.get(url)"
   ]
  },
  {
   "cell_type": "code",
   "execution_count": null,
   "metadata": {},
   "outputs": [],
   "source": [
    "teste = []\n",
    "url_raiz = 'https://leitespc.blogspot.com/'\n",
    "for i in range(2006, 2020):\n",
    "    ano = i\n",
    "    for j in range(1, 13):\n",
    "        url = url_raiz+str(ano)+'/'+str(0)+str(j)\n",
    "        url_new = re.sub(\"010$\",\"10\",url)\n",
    "        url_new = re.sub(\"011$\",\"11\",url_new)\n",
    "        url_new = re.sub(\"012$\",\"12\",url_new)\n",
    "        teste.append(url_new)\n",
    "        \n",
    "\n",
    "\n",
    "#url_raiz = 'https://leitespc.blogspot.com/'\n",
    "#requests.get(url_raiz)\n",
    "teste\n"
   ]
  },
  {
   "cell_type": "code",
   "execution_count": 2,
   "metadata": {},
   "outputs": [
    {
     "output_type": "stream",
     "name": "stdout",
     "text": [
      "<!DOCTYPE html>\n<html class='v2' dir='ltr' lang='pt-BR'>\n<head>\n<link href='https://www.blogger.com/static/v1/widgets/3416767676-css_bundle_v2.css' rel='stylesheet' type='text/css'/>\n<meta content='width=1100' name='viewport'/>\n<meta content='text/html; charset=UTF-8' http-equiv='Content-Type'/>\n<meta content='blogger' name='generator'/>\n<link href='https://leitespc.blogspot.com/favicon.ico' rel='icon' type='image/x-icon'/>\n<link href='https://leitespc.blogspot.com/' rel='canonical'/>\n<link rel=\n"
     ]
    },
    {
     "output_type": "execute_result",
     "data": {
      "text/plain": [
       "bs4.BeautifulSoup"
      ]
     },
     "metadata": {},
     "execution_count": 2
    }
   ],
   "source": [
    "from requests import get\n",
    "url = 'https://leitespc.blogspot.com/'\n",
    "response = get(url)\n",
    "print(response.text[:500])\n",
    "html_soup = BeautifulSoup(response.text, 'html.parser')\n",
    "type(html_soup)"
   ]
  },
  {
   "cell_type": "code",
   "execution_count": 3,
   "metadata": {},
   "outputs": [
    {
     "output_type": "execute_result",
     "data": {
      "text/plain": [
       "'2020'"
      ]
     },
     "metadata": {},
     "execution_count": 3
    }
   ],
   "source": [
    "#year = html_soup.find_all('a', href=True)\n",
    "year1 = html_soup.findAll('a')[28].get_text()\n",
    "#print year.get('href')\n",
    "year1[25:29]"
   ]
  },
  {
   "cell_type": "code",
   "execution_count": 4,
   "metadata": {},
   "outputs": [
    {
     "output_type": "execute_result",
     "data": {
      "text/plain": [
       "'2019'"
      ]
     },
     "metadata": {},
     "execution_count": 4
    }
   ],
   "source": [
    "#year = html_soup.find_all('a', href=True)\n",
    "year2 = html_soup.findAll('a')[29].get_text()\n",
    "#print year.get('href')\n",
    "year2[25:29]"
   ]
  },
  {
   "cell_type": "code",
   "execution_count": 34,
   "metadata": {},
   "outputs": [
    {
     "output_type": "stream",
     "name": "stdout",
     "text": [
      "https://www.blogger.com/static/v1/widgets/3416767676-css_bundle_v2.css\nhttps://leitespc.blogspot.com/favicon.ico\nhttps://leitespc.blogspot.com/\nhttps://leitespc.blogspot.com/feeds/posts/default\nhttps://leitespc.blogspot.com/feeds/posts/default?alt=rss\nhttps://www.blogger.com/feeds/2538168105662606801/posts/default\nhttps://www.blogger.com/profile/12017586233932277675\nhttps://www.blogger.com/dyn-css/authorization.css?targetBlogID=2538168105662606801&zx=25763a0a-fd19-48d2-88ab-76d4e52325ed\nhttps://www.blogger.com/dyn-css/authorization.css?targetBlogID=2538168105662606801&zx=25763a0a-fd19-48d2-88ab-76d4e52325ed\nhttps://leitespc.blogspot.com/2021/01/lista-das-500-da-kissfm-20202021.html\nhttps://leitespc.blogspot.com/2021/01/lista-das-500-da-kissfm-20202021.html\nhttps://www.blogger.com/comment.g?blogID=2538168105662606801&postID=4576920015812874121\nhttps://www.blogger.com/email-post.g?blogID=2538168105662606801&postID=4576920015812874121\nhttps://www.blogger.com/post-edit.g?blogID=2538168105662606801&postID=4576920015812874121&from=pencil\nhttps://www.blogger.com/share-post.g?blogID=2538168105662606801&postID=4576920015812874121&target=email\nhttps://www.blogger.com/share-post.g?blogID=2538168105662606801&postID=4576920015812874121&target=blog\nhttps://www.blogger.com/share-post.g?blogID=2538168105662606801&postID=4576920015812874121&target=twitter\nhttps://www.blogger.com/share-post.g?blogID=2538168105662606801&postID=4576920015812874121&target=facebook\nhttps://www.blogger.com/share-post.g?blogID=2538168105662606801&postID=4576920015812874121&target=pinterest\nhttps://leitespc.blogspot.com/2020/01/lista-das-500-da-kissfm-20192020.html\nhttps://leitespc.blogspot.com/2020/01/lista-das-500-da-kissfm-20192020.html\nhttps://www.blogger.com/comment.g?blogID=2538168105662606801&postID=4862374412745860890\nhttps://www.blogger.com/email-post.g?blogID=2538168105662606801&postID=4862374412745860890\nhttps://www.blogger.com/post-edit.g?blogID=2538168105662606801&postID=4862374412745860890&from=pencil\nhttps://www.blogger.com/share-post.g?blogID=2538168105662606801&postID=4862374412745860890&target=email\nhttps://www.blogger.com/share-post.g?blogID=2538168105662606801&postID=4862374412745860890&target=blog\nhttps://www.blogger.com/share-post.g?blogID=2538168105662606801&postID=4862374412745860890&target=twitter\nhttps://www.blogger.com/share-post.g?blogID=2538168105662606801&postID=4862374412745860890&target=facebook\nhttps://www.blogger.com/share-post.g?blogID=2538168105662606801&postID=4862374412745860890&target=pinterest\nhttps://leitespc.blogspot.com/search?updated-max=2020-01-09T10:18:00-03:00&max-results=11\nhttps://leitespc.blogspot.com/\nhttps://leitespc.blogspot.com/feeds/posts/default\nhttps://leitespc.blogspot.com/2021/01/lista-das-500-da-kissfm-20202021.html\nhttps://leitespc.blogspot.com/2021/01/lista-das-500-da-kissfm-20202021.html\nhttps://leitespc.blogspot.com/2020/01/lista-das-500-da-kissfm-20192020.html\nhttps://leitespc.blogspot.com/\nhttps://www.blogger.com/profile/12017586233932277675\nhttps://www.blogger.com/profile/12017586233932277675\nhttps://www.blogger.com/profile/12017586233932277675\nhttps://leitespc.blogspot.com/2007/06/\nhttps://leitespc.blogspot.com/2008/12/\nhttps://leitespc.blogspot.com/2009/01/\nhttps://leitespc.blogspot.com/2010/01/\nhttps://leitespc.blogspot.com/2011/01/\nhttps://leitespc.blogspot.com/2012/01/\nhttps://leitespc.blogspot.com/2013/01/\nhttps://leitespc.blogspot.com/2014/01/\nhttps://leitespc.blogspot.com/2015/10/\nhttps://leitespc.blogspot.com/2016/12/\nhttps://leitespc.blogspot.com/2017/05/\nhttps://leitespc.blogspot.com/2018/09/\nhttps://leitespc.blogspot.com/2019/10/\nhttps://leitespc.blogspot.com/2020/01/\nhttps://leitespc.blogspot.com/2021/01/\nhttps://www.blogger.com/go/report-abuse\nhttps://www.blogger.com\n"
     ]
    }
   ],
   "source": [
    "find_a = html_soup.find_all(href=True)\n",
    "href_filter=[]\n",
    "for x in find_a:\n",
    "    href_filter.append(x['href'])\n",
    "    print(x['href'])"
   ]
  },
  {
   "cell_type": "code",
   "execution_count": 6,
   "metadata": {},
   "outputs": [
    {
     "output_type": "execute_result",
     "data": {
      "text/plain": [
       "[<a href=\"https://leitespc.blogspot.com/2021/01/lista-das-500-da-kissfm-20202021.html\">LISTA DAS 500+ DA KISSFM 2020 / 2021</a>,\n",
       " <a class=\"timestamp-link\" href=\"https://leitespc.blogspot.com/2021/01/lista-das-500-da-kissfm-20202021.html\" rel=\"bookmark\" title=\"permanent link\"><abbr class=\"published\" itemprop=\"datePublished\" title=\"2021-01-02T09:44:00-03:00\">janeiro 02, 2021</abbr></a>,\n",
       " <a class=\"comment-link\" href=\"https://www.blogger.com/comment.g?blogID=2538168105662606801&amp;postID=4576920015812874121\" onclick=\"\">\n",
       " Um comentário:\n",
       "   </a>,\n",
       " <a href=\"https://www.blogger.com/email-post.g?blogID=2538168105662606801&amp;postID=4576920015812874121\" title=\"Enviar esta postagem\">\n",
       " <img alt=\"\" class=\"icon-action\" height=\"13\" src=\"https://resources.blogblog.com/img/icon18_email.gif\" width=\"18\"/>\n",
       " </a>,\n",
       " <a href=\"https://www.blogger.com/post-edit.g?blogID=2538168105662606801&amp;postID=4576920015812874121&amp;from=pencil\" title=\"Editar postagem\">\n",
       " <img alt=\"\" class=\"icon-action\" height=\"18\" src=\"https://resources.blogblog.com/img/icon18_edit_allbkg.gif\" width=\"18\"/>\n",
       " </a>,\n",
       " <a class=\"goog-inline-block share-button sb-email\" href=\"https://www.blogger.com/share-post.g?blogID=2538168105662606801&amp;postID=4576920015812874121&amp;target=email\" target=\"_blank\" title=\"Enviar por e-mail\"><span class=\"share-button-link-text\">Enviar por e-mail</span></a>,\n",
       " <a class=\"goog-inline-block share-button sb-blog\" href=\"https://www.blogger.com/share-post.g?blogID=2538168105662606801&amp;postID=4576920015812874121&amp;target=blog\" onclick='window.open(this.href, \"_blank\", \"height=270,width=475\"); return false;' target=\"_blank\" title=\"BlogThis!\"><span class=\"share-button-link-text\">BlogThis!</span></a>,\n",
       " <a class=\"goog-inline-block share-button sb-twitter\" href=\"https://www.blogger.com/share-post.g?blogID=2538168105662606801&amp;postID=4576920015812874121&amp;target=twitter\" target=\"_blank\" title=\"Compartilhar no Twitter\"><span class=\"share-button-link-text\">Compartilhar no Twitter</span></a>,\n",
       " <a class=\"goog-inline-block share-button sb-facebook\" href=\"https://www.blogger.com/share-post.g?blogID=2538168105662606801&amp;postID=4576920015812874121&amp;target=facebook\" onclick='window.open(this.href, \"_blank\", \"height=430,width=640\"); return false;' target=\"_blank\" title=\"Compartilhar no Facebook\"><span class=\"share-button-link-text\">Compartilhar no Facebook</span></a>,\n",
       " <a class=\"goog-inline-block share-button sb-pinterest\" href=\"https://www.blogger.com/share-post.g?blogID=2538168105662606801&amp;postID=4576920015812874121&amp;target=pinterest\" target=\"_blank\" title=\"Compartilhar com o Pinterest\"><span class=\"share-button-link-text\">Compartilhar com o Pinterest</span></a>,\n",
       " <a href=\"https://leitespc.blogspot.com/2020/01/lista-das-500-da-kissfm-20192020.html\">LISTA DAS 500+ DA KISSFM 2019/2020</a>,\n",
       " <a class=\"timestamp-link\" href=\"https://leitespc.blogspot.com/2020/01/lista-das-500-da-kissfm-20192020.html\" rel=\"bookmark\" title=\"permanent link\"><abbr class=\"published\" itemprop=\"datePublished\" title=\"2020-01-09T10:18:00-03:00\">janeiro 09, 2020</abbr></a>,\n",
       " <a class=\"comment-link\" href=\"https://www.blogger.com/comment.g?blogID=2538168105662606801&amp;postID=4862374412745860890\" onclick=\"\">\n",
       " Nenhum comentário:\n",
       "   </a>,\n",
       " <a href=\"https://www.blogger.com/email-post.g?blogID=2538168105662606801&amp;postID=4862374412745860890\" title=\"Enviar esta postagem\">\n",
       " <img alt=\"\" class=\"icon-action\" height=\"13\" src=\"https://resources.blogblog.com/img/icon18_email.gif\" width=\"18\"/>\n",
       " </a>,\n",
       " <a href=\"https://www.blogger.com/post-edit.g?blogID=2538168105662606801&amp;postID=4862374412745860890&amp;from=pencil\" title=\"Editar postagem\">\n",
       " <img alt=\"\" class=\"icon-action\" height=\"18\" src=\"https://resources.blogblog.com/img/icon18_edit_allbkg.gif\" width=\"18\"/>\n",
       " </a>,\n",
       " <a class=\"goog-inline-block share-button sb-email\" href=\"https://www.blogger.com/share-post.g?blogID=2538168105662606801&amp;postID=4862374412745860890&amp;target=email\" target=\"_blank\" title=\"Enviar por e-mail\"><span class=\"share-button-link-text\">Enviar por e-mail</span></a>,\n",
       " <a class=\"goog-inline-block share-button sb-blog\" href=\"https://www.blogger.com/share-post.g?blogID=2538168105662606801&amp;postID=4862374412745860890&amp;target=blog\" onclick='window.open(this.href, \"_blank\", \"height=270,width=475\"); return false;' target=\"_blank\" title=\"BlogThis!\"><span class=\"share-button-link-text\">BlogThis!</span></a>,\n",
       " <a class=\"goog-inline-block share-button sb-twitter\" href=\"https://www.blogger.com/share-post.g?blogID=2538168105662606801&amp;postID=4862374412745860890&amp;target=twitter\" target=\"_blank\" title=\"Compartilhar no Twitter\"><span class=\"share-button-link-text\">Compartilhar no Twitter</span></a>,\n",
       " <a class=\"goog-inline-block share-button sb-facebook\" href=\"https://www.blogger.com/share-post.g?blogID=2538168105662606801&amp;postID=4862374412745860890&amp;target=facebook\" onclick='window.open(this.href, \"_blank\", \"height=430,width=640\"); return false;' target=\"_blank\" title=\"Compartilhar no Facebook\"><span class=\"share-button-link-text\">Compartilhar no Facebook</span></a>,\n",
       " <a class=\"goog-inline-block share-button sb-pinterest\" href=\"https://www.blogger.com/share-post.g?blogID=2538168105662606801&amp;postID=4862374412745860890&amp;target=pinterest\" target=\"_blank\" title=\"Compartilhar com o Pinterest\"><span class=\"share-button-link-text\">Compartilhar com o Pinterest</span></a>,\n",
       " <a class=\"blog-pager-older-link\" href=\"https://leitespc.blogspot.com/search?updated-max=2020-01-09T10:18:00-03:00&amp;max-results=11\" id=\"Blog1_blog-pager-older-link\" title=\"Postagens mais antigas\">Postagens mais antigas</a>,\n",
       " <a class=\"home-link\" href=\"https://leitespc.blogspot.com/\">Página inicial</a>,\n",
       " <a class=\"feed-link\" href=\"https://leitespc.blogspot.com/feeds/posts/default\" target=\"_blank\" type=\"application/atom+xml\">Postagens (Atom)</a>,\n",
       " <a href=\"https://leitespc.blogspot.com/2021/01/lista-das-500-da-kissfm-20202021.html\">LISTA DAS 500+ DA KISSFM 2020 / 2021</a>,\n",
       " <a href=\"https://leitespc.blogspot.com/2021/01/lista-das-500-da-kissfm-20202021.html\">LISTA DAS 500+ DA KISSFM 2020 / 2021</a>,\n",
       " <a href=\"https://leitespc.blogspot.com/2020/01/lista-das-500-da-kissfm-20192020.html\">LISTA DAS 500+ DA KISSFM 2019/2020</a>,\n",
       " <a href=\"https://leitespc.blogspot.com/\">Página inicial</a>,\n",
       " <a href=\"https://www.blogger.com/profile/12017586233932277675\"><img alt=\"Minha foto\" class=\"profile-img\" height=\"80\" src=\"//4.bp.blogspot.com/-YcgwdQn9pV8/YC7mxxDsn_I/AAAAAAAAK0c/NX3s6aIeObExZTxJ3BTz25RXOwOsDLpagCK4BGAYYCw/s80/FOTO%2B2021.png\" width=\"61\"/></a>,\n",
       " <a class=\"profile-name-link g-profile\" href=\"https://www.blogger.com/profile/12017586233932277675\" rel=\"author\" style=\"background-image: url(//www.blogger.com/img/logo-16.png);\">\n",
       " ANDREL\n",
       " </a>,\n",
       " <a class=\"profile-link\" href=\"https://www.blogger.com/profile/12017586233932277675\" rel=\"author\">Visualizar meu perfil completo</a>,\n",
       " <a href=\"https://leitespc.blogspot.com/2007/06/\">jun 2007</a>,\n",
       " <a href=\"https://leitespc.blogspot.com/2008/12/\">dez 2008</a>,\n",
       " <a href=\"https://leitespc.blogspot.com/2009/01/\">jan 2009</a>,\n",
       " <a href=\"https://leitespc.blogspot.com/2010/01/\">jan 2010</a>,\n",
       " <a href=\"https://leitespc.blogspot.com/2011/01/\">jan 2011</a>,\n",
       " <a href=\"https://leitespc.blogspot.com/2012/01/\">jan 2012</a>,\n",
       " <a href=\"https://leitespc.blogspot.com/2013/01/\">jan 2013</a>,\n",
       " <a href=\"https://leitespc.blogspot.com/2014/01/\">jan 2014</a>,\n",
       " <a href=\"https://leitespc.blogspot.com/2015/10/\">out 2015</a>,\n",
       " <a href=\"https://leitespc.blogspot.com/2016/12/\">dez 2016</a>,\n",
       " <a href=\"https://leitespc.blogspot.com/2017/05/\">mai 2017</a>,\n",
       " <a href=\"https://leitespc.blogspot.com/2018/09/\">set 2018</a>,\n",
       " <a href=\"https://leitespc.blogspot.com/2019/10/\">out 2019</a>,\n",
       " <a href=\"https://leitespc.blogspot.com/2020/01/\">jan 2020</a>,\n",
       " <a href=\"https://leitespc.blogspot.com/2021/01/\">jan 2021</a>,\n",
       " <a class=\"report_abuse\" href=\"https://www.blogger.com/go/report-abuse\" rel=\"noopener nofollow\" target=\"_blank\">\n",
       " Denunciar abuso\n",
       " </a>,\n",
       " <a href=\"https://www.blogger.com\" target=\"_blank\">Blogger</a>]"
      ]
     },
     "metadata": {},
     "execution_count": 6
    }
   ],
   "source": [
    "get_urls = html_soup.find_all('a', href=True)\n",
    "#get_urls = html_soup.findAll('a')[39].get_text()\n",
    "#print year.get('href')\n",
    "get_urls"
   ]
  },
  {
   "cell_type": "code",
   "execution_count": 36,
   "metadata": {},
   "outputs": [],
   "source": [
    "#response = get(url)\n",
    "soup = BeautifulSoup(content, 'html.parser')\n",
    "all_a = soup.select('.profile-link a')\n",
    "\n",
    "for a in all_a:\n",
    "    print(a['href'])"
   ]
  },
  {
   "cell_type": "code",
   "execution_count": 37,
   "metadata": {},
   "outputs": [
    {
     "output_type": "execute_result",
     "data": {
      "text/plain": [
       "'<a class=\"profile-link\" href=\"https://www.blogger.com/profile/12017586233932277675\" rel=\"author\">Visualizar meu perfil completo</a>,\\n <a href=\"https://leitespc.blogspot.com/2007/06/\">jun 2007</a>,\\n <a href=\"https://leitespc.blogspot.com/2008/12/\">dez 2008</a>,\\n <a href=\"https://leitespc.blogspot.com/2009/01/\">jan 2009</a>,\\n <a href=\"https://leitespc.blogspot.com/2010/01/\">jan 2010</a>,\\n <a href=\"https://leitespc.blogspot.com/2011/01/\">jan 2011</a>,\\n <a href=\"https://leitespc.blogspot.com/2012/01/\">jan 2012</a>,\\n <a href=\"https://leitespc.blogspot.com/2013/01/\">jan 2013</a>,\\n <a href=\"https://leitespc.blogspot.com/2014/01/\">jan 2014</a>,\\n <a href=\"https://leitespc.blogspot.com/2015/10/\">out 2015</a>,\\n <a href=\"https://leitespc.blogspot.com/2016/12/\">dez 2016</a>,\\n <a href=\"https://leitespc.blogspot.com/2017/05/\">mai 2017</a>,\\n <a href=\"https://leitespc.blogspot.com/2018/09/\">set 2018</a>,\\n <a href=\"https://leitespc.blogspot.com/2019/10/\">out 2019</a>,\\n <a href=\"https://leitespc.blogspot.com/2020/01/\">jan 2020</a>,\\n <a href=\"https://leitespc.blogspot.com/2021/01/\">jan 2021</a>,\\n'"
      ]
     },
     "metadata": {},
     "execution_count": 37
    }
   ],
   "source": [
    "content"
   ]
  },
  {
   "cell_type": "code",
   "execution_count": null,
   "metadata": {},
   "outputs": [],
   "source": [
    "try:\n",
    "    html = urlopen(url)\n",
    "except HTTPError as e:\n",
    "    print(e)\n",
    "except URLError as e:\n",
    "    print ('Servidor nao encontrado!')"
   ]
  },
  {
   "cell_type": "code",
   "execution_count": null,
   "metadata": {
    "tags": [
     "outputPrepend"
    ]
   },
   "outputs": [],
   "source": [
    "bs = BeautifulSoup(request.content, 'html.parser')\n",
    "\n",
    "musicas_filtradas = print(bs.find('div', class_=\"post-body entry-content\"))\n",
    "#print(musicas_filtradas.head())"
   ]
  },
  {
   "cell_type": "code",
   "execution_count": 53,
   "metadata": {},
   "outputs": [
    {
     "output_type": "execute_result",
     "data": {
      "text/plain": [
       "{'https://leitespc.blogspot.com/2007/06',\n",
       " 'https://leitespc.blogspot.com/2008/12',\n",
       " 'https://leitespc.blogspot.com/2009/01',\n",
       " 'https://leitespc.blogspot.com/2010/01',\n",
       " 'https://leitespc.blogspot.com/2011/01',\n",
       " 'https://leitespc.blogspot.com/2012/01',\n",
       " 'https://leitespc.blogspot.com/2013/01',\n",
       " 'https://leitespc.blogspot.com/2014/01',\n",
       " 'https://leitespc.blogspot.com/2015/10',\n",
       " 'https://leitespc.blogspot.com/2016/12',\n",
       " 'https://leitespc.blogspot.com/2017/05',\n",
       " 'https://leitespc.blogspot.com/2018/09',\n",
       " 'https://leitespc.blogspot.com/2019/10',\n",
       " 'https://leitespc.blogspot.com/2020/01',\n",
       " 'https://leitespc.blogspot.com/2021/01'}"
      ]
     },
     "metadata": {},
     "execution_count": 53
    }
   ],
   "source": [
    "href_filter1 = re.findall(r'https://leitespc.blogspot.com/..../..', str(href_filter))\n",
    "set(href_filter1)\n"
   ]
  },
  {
   "cell_type": "code",
   "execution_count": null,
   "metadata": {},
   "outputs": [],
   "source": [
    "2007 = []\n",
    "2008 = []\n",
    "2009 = []\n",
    "2010 = []\n",
    "2011 = []\n",
    "2012 = []\n",
    "2013 = []\n",
    "2014 = []\n",
    "2015 = []\n",
    "2016 = []\n",
    "2017 = []\n",
    "2018 = []\n",
    "2019 = []\n",
    "2020 = []\n",
    "2021 = []\n",
    "\n",
    "for y in href_filter1:\n",
    "    soup = BeautifulSoup(y.text, 'html.parser')\n",
    "    "
   ]
  },
  {
   "cell_type": "code",
   "execution_count": null,
   "metadata": {},
   "outputs": [],
   "source": [
    "def get_html(year):\n",
    "    for y in href_filter1:\n",
    "         if y =="
   ]
  }
 ],
 "metadata": {
  "kernelspec": {
   "display_name": "Python 3",
   "language": "python",
   "name": "python3"
  },
  "language_info": {
   "codemirror_mode": {
    "name": "ipython",
    "version": 3
   },
   "file_extension": ".py",
   "mimetype": "text/x-python",
   "name": "python",
   "nbconvert_exporter": "python",
   "pygments_lexer": "ipython3",
   "version": "3.8.5-final"
  }
 },
 "nbformat": 4,
 "nbformat_minor": 2
}